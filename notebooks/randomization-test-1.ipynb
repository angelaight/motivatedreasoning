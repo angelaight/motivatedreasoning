{
 "cells": [
  {
   "cell_type": "code",
   "execution_count": 75,
   "metadata": {},
   "outputs": [
    {
     "name": "stdout",
     "output_type": "stream",
     "text": [
      "Defaulting to user installation because normal site-packages is not writeable\n",
      "Collecting statsmodels\n",
      "  Downloading statsmodels-0.12.2-cp38-cp38-manylinux1_x86_64.whl (9.4 MB)\n",
      "\u001b[K     |████████████████████████████████| 9.4 MB 15.7 MB/s eta 0:00:01\n",
      "\u001b[?25hRequirement already satisfied: pandas>=0.21 in /ext3/miniconda3/lib/python3.8/site-packages (from statsmodels) (1.1.2)\n",
      "Requirement already satisfied: numpy>=1.15 in /ext3/miniconda3/lib/python3.8/site-packages (from statsmodels) (1.19.2)\n",
      "Requirement already satisfied: scipy>=1.1 in /ext3/miniconda3/lib/python3.8/site-packages (from statsmodels) (1.5.2)\n",
      "Collecting patsy>=0.5\n",
      "  Downloading patsy-0.5.1-py2.py3-none-any.whl (231 kB)\n",
      "\u001b[K     |████████████████████████████████| 231 kB 115.3 MB/s eta 0:00:01\n",
      "\u001b[?25hRequirement already satisfied: python-dateutil>=2.7.3 in /ext3/miniconda3/lib/python3.8/site-packages (from pandas>=0.21->statsmodels) (2.8.1)\n",
      "Requirement already satisfied: pytz>=2017.2 in /ext3/miniconda3/lib/python3.8/site-packages (from pandas>=0.21->statsmodels) (2020.1)\n",
      "Requirement already satisfied: six in /ext3/miniconda3/lib/python3.8/site-packages (from patsy>=0.5->statsmodels) (1.15.0)\n",
      "Installing collected packages: patsy, statsmodels\n",
      "Successfully installed patsy-0.5.1 statsmodels-0.12.2\n"
     ]
    }
   ],
   "source": [
    "!pip install statsmodels"
   ]
  },
  {
   "cell_type": "code",
   "execution_count": 1,
   "metadata": {},
   "outputs": [],
   "source": [
    "import numpy as np\n",
    "import pandas as pd\n",
    "\n",
    "from sklearn.preprocessing import OneHotEncoder\n",
    "from sklearn.linear_model import LogisticRegression\n",
    "import statsmodels.api as sm\n",
    "\n",
    "pd.set_option('display.max_columns', None)"
   ]
  },
  {
   "cell_type": "code",
   "execution_count": 2,
   "metadata": {},
   "outputs": [],
   "source": [
    "type_map = {\n",
    "    'decision_date' : 'str',\n",
    "    'filing_date' : 'str',\n",
    "    'Court Name' : 'category',\n",
    "    'Party of Appointing President' : 'category',\n",
    "    'CIRCUIT' : 'category',\n",
    "    'JURIS' : 'category',\n",
    "    'NOS' : 'category',\n",
    "    'ORIGIN' : 'category',\n",
    "    'RESIDENC' : 'category',\n",
    "    'CLASSACT' : 'category',\n",
    "    'DEMANDED' : 'float64',\n",
    "    'TERMDATE' : 'str',\n",
    "    'DISP' : 'category',\n",
    "    'PROCPROG' : 'category',\n",
    "    'NOJ' : 'category',\n",
    "    'AMTREC' : 'category',\n",
    "    'JUDGMENT' : 'category',\n",
    "    'TAPEYEAR' : 'float64',\n",
    "    'district' : 'category',\n",
    "    'office' : 'category',\n",
    "    'county' : 'category',\n",
    "    'TRCLACT' : 'category',\n",
    "    'PROSE' : 'category',\n",
    "    'arbit' : 'category',\n",
    "    'transoff' : 'category',\n",
    "    'trmarb' : 'category',\n",
    "    'ifp' : 'category',\n",
    "    'statuscd' : 'category'\n",
    "}\n",
    "\n",
    "cols_to_drop = [\n",
    "    'decision_date',\n",
    "    'filing_date',\n",
    "    'TERMDATE'\n",
    "]\n",
    "\n",
    "df = pd.read_csv(\n",
    "    '/scratch/ayl316/ttml_mr_data/processed_data/cases.csv.zip', \n",
    "    dtype = type_map, \n",
    "    parse_dates = ['decision_date', 'filing_date', 'TERMDATE']\n",
    ").rename(columns = {\n",
    "    'Court Name' : 'court_name',\n",
    "    'Party of Appointing President' : 'party'\n",
    "}).drop(columns = cols_to_drop)\n",
    "\n",
    "\n",
    "for col in ['party', 'TRCLACT', 'PROSE', 'arbit', 'transoff', 'trmarb', 'ifp', 'statuscd']:\n",
    "    if not '-8' in df[col].cat.categories:\n",
    "        df[col] = df[col].cat.add_categories('-8')\n",
    "    df[col] = df[col].fillna('-8')"
   ]
  },
  {
   "cell_type": "code",
   "execution_count": 3,
   "metadata": {},
   "outputs": [
    {
     "name": "stdout",
     "output_type": "stream",
     "text": [
      "<class 'pandas.core.frame.DataFrame'>\n",
      "RangeIndex: 1219459 entries, 0 to 1219458\n",
      "Data columns (total 25 columns):\n",
      " #   Column      Non-Null Count    Dtype   \n",
      "---  ------      --------------    -----   \n",
      " 0   court_name  1219459 non-null  category\n",
      " 1   party       1219459 non-null  category\n",
      " 2   CIRCUIT     1219459 non-null  category\n",
      " 3   JURIS       1219459 non-null  category\n",
      " 4   NOS         1219459 non-null  category\n",
      " 5   ORIGIN      1219459 non-null  category\n",
      " 6   RESIDENC    1219459 non-null  category\n",
      " 7   CLASSACT    1219459 non-null  category\n",
      " 8   DEMANDED    1219459 non-null  float64 \n",
      " 9   DISP        1219459 non-null  category\n",
      " 10  PROCPROG    1219459 non-null  category\n",
      " 11  NOJ         1219459 non-null  category\n",
      " 12  AMTREC      1219459 non-null  category\n",
      " 13  JUDGMENT    1219459 non-null  category\n",
      " 14  TAPEYEAR    1219459 non-null  float64 \n",
      " 15  district    1219459 non-null  category\n",
      " 16  office      1219459 non-null  category\n",
      " 17  county      1219459 non-null  category\n",
      " 18  TRCLACT     1219459 non-null  category\n",
      " 19  PROSE       1219459 non-null  category\n",
      " 20  arbit       1219459 non-null  category\n",
      " 21  transoff    1219459 non-null  category\n",
      " 22  trmarb      1219459 non-null  category\n",
      " 23  ifp         1219459 non-null  category\n",
      " 24  statuscd    1219459 non-null  category\n",
      "dtypes: category(23), float64(2)\n",
      "memory usage: 49.0 MB\n"
     ]
    }
   ],
   "source": [
    "df.info()"
   ]
  },
  {
   "cell_type": "code",
   "execution_count": 11,
   "metadata": {},
   "outputs": [],
   "source": [
    "feature_cols = [\n",
    "    'court_name',\n",
    "    'CIRCUIT',\n",
    "    'JURIS',\n",
    "    'NOS',\n",
    "    'ORIGIN',\n",
    "    'RESIDENC',\n",
    "    'CLASSACT',\n",
    "#     'DEMANDED',\n",
    "    'DISP',\n",
    "    'PROCPROG',\n",
    "    'NOJ',\n",
    "    'AMTREC',\n",
    "    'JUDGMENT',\n",
    "#     'TAPEYEAR',\n",
    "    'district',\n",
    "    'office',\n",
    "    'county',\n",
    "    'TRCLACT',\n",
    "    'PROSE',\n",
    "    'arbit',\n",
    "    'transoff',\n",
    "    'trmarb',\n",
    "    'ifp',\n",
    "    'statuscd'\n",
    "]\n",
    "\n",
    "target_col = 'party'\n",
    "\n",
    "df = df[(df[target_col] == 'Republican') | (df[target_col] == 'Democratic')]\n",
    "\n",
    "df = df.sample(n = 50000)\n",
    "\n",
    "for col in df.columns:\n",
    "    if col in feature_cols:\n",
    "        df[col] = df[col].cat.remove_unused_categories()\n",
    "\n",
    "X = df[feature_cols]\n",
    "y = df[target_col]\n",
    "\n",
    "\n",
    "y = y.cat.add_categories(['1', '0'])\n",
    "y[y == 'Democratic'] = '1'\n",
    "y[y == 'Republican'] = '0'\n",
    "y = y.cat.remove_unused_categories()"
   ]
  },
  {
   "cell_type": "code",
   "execution_count": 12,
   "metadata": {},
   "outputs": [],
   "source": [
    "enc = OneHotEncoder(drop = 'first')\n",
    "enc.fit(X)\n",
    "X_ohe = pd.DataFrame(\n",
    "    enc.transform(X).toarray(),\n",
    "    columns = enc.get_feature_names(feature_cols)\n",
    ")\n",
    "\n",
    "# X_ohe = enc.transform(X).toarray()"
   ]
  },
  {
   "cell_type": "code",
   "execution_count": 13,
   "metadata": {},
   "outputs": [
    {
     "data": {
      "text/plain": [
       "(50000, 3043)"
      ]
     },
     "execution_count": 13,
     "metadata": {},
     "output_type": "execute_result"
    }
   ],
   "source": [
    "np.asarray(X_ohe).shape"
   ]
  },
  {
   "cell_type": "code",
   "execution_count": 16,
   "metadata": {},
   "outputs": [
    {
     "name": "stderr",
     "output_type": "stream",
     "text": [
      "/home/ns4486/.local/lib/python3.8/site-packages/statsmodels/base/model.py:547: HessianInversionWarning: Inverting hessian failed, no bse or cov_params available\n",
      "  warnings.warn('Inverting hessian failed, no bse or cov_params '\n",
      "/home/ns4486/.local/lib/python3.8/site-packages/statsmodels/base/model.py:566: ConvergenceWarning: Maximum Likelihood optimization failed to converge. Check mle_retvals\n",
      "  warnings.warn(\"Maximum Likelihood optimization failed to \"\n"
     ]
    }
   ],
   "source": [
    "# clf = LogisticRegression(random_state = 0).fit(X_ohe, y)\n",
    "\n",
    "\n",
    "log_reg = sm.Logit(list(y.astype(float)), X_ohe).fit(method='lbfgs')"
   ]
  },
  {
   "cell_type": "code",
   "execution_count": null,
   "metadata": {},
   "outputs": [],
   "source": [
    "# print(log_reg.summary())"
   ]
  },
  {
   "cell_type": "code",
   "execution_count": 17,
   "metadata": {},
   "outputs": [
    {
     "data": {
      "text/plain": [
       "court_name_Supreme Court of the United States            NaN\n",
       "court_name_U.S. Circuit Courts for the First Circuit     NaN\n",
       "court_name_U.S. Circuit Courts for the Ninth Circuit     NaN\n",
       "court_name_U.S. Circuit Courts for the Second Circuit    NaN\n",
       "court_name_U.S. Circuit Courts for the Seventh Circuit   NaN\n",
       "                                                          ..\n",
       "trmarb_M                                                 NaN\n",
       "trmarb_S                                                 NaN\n",
       "trmarb_V                                                 NaN\n",
       "ifp_FP                                                   NaN\n",
       "statuscd_L                                               NaN\n",
       "Length: 3043, dtype: float64"
      ]
     },
     "execution_count": 17,
     "metadata": {},
     "output_type": "execute_result"
    }
   ],
   "source": [
    "log_reg.pvalues"
   ]
  },
  {
   "cell_type": "code",
   "execution_count": null,
   "metadata": {},
   "outputs": [],
   "source": []
  }
 ],
 "metadata": {
  "kernelspec": {
   "display_name": "Python 3",
   "language": "python",
   "name": "python3"
  },
  "language_info": {
   "codemirror_mode": {
    "name": "ipython",
    "version": 3
   },
   "file_extension": ".py",
   "mimetype": "text/x-python",
   "name": "python",
   "nbconvert_exporter": "python",
   "pygments_lexer": "ipython3",
   "version": "3.8.6"
  }
 },
 "nbformat": 4,
 "nbformat_minor": 4
}
